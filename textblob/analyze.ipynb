{
 "cells": [
  {
   "attachments": {},
   "cell_type": "markdown",
   "metadata": {},
   "source": [
    "Analyze texts using the TextBlob model. This is in a Jupyter Notebook so that you only need to load the model once, then you can use the generated model freely."
   ]
  },
  {
   "cell_type": "code",
   "execution_count": null,
   "metadata": {},
   "outputs": [],
   "source": [
    "# imports packages\n",
    "import pickle\n",
    "from textblob import TextBlob\n",
    "from textblob.classifiers import NaiveBayesClassifier\n",
    "\n",
    "# gets the model\n",
    "with open(\"../models/textblobmodel\", \"br\") as file:\n",
    "    model = pickle.load(file)\n",
    "\n",
    "# prepare the model for easy usage\n",
    "model.classify(\"Hello!\")"
   ]
  },
  {
   "cell_type": "code",
   "execution_count": null,
   "metadata": {},
   "outputs": [],
   "source": [
    "# classifies inputs\n",
    "times = int(input(\"Enter how many texts you want to analyze: \"))\n",
    "\n",
    "for i in range(times):\n",
    "    inp = input(\"Enter text here: \")\n",
    "    print(\"Text \" + str(i + 1) + \": \" + model.classify(inp))"
   ]
  }
 ],
 "metadata": {
  "kernelspec": {
   "display_name": ".venv",
   "language": "python",
   "name": "python3"
  },
  "language_info": {
   "codemirror_mode": {
    "name": "ipython",
    "version": 3
   },
   "file_extension": ".py",
   "mimetype": "text/x-python",
   "name": "python",
   "nbconvert_exporter": "python",
   "pygments_lexer": "ipython3",
   "version": "3.11.2"
  },
  "orig_nbformat": 4,
  "vscode": {
   "interpreter": {
    "hash": "05bb9d5be7a4819799d3124365432c9e401f7cacdf3ab72d1355166284b78b2d"
   }
  }
 },
 "nbformat": 4,
 "nbformat_minor": 2
}

{
 "cells": [
  {
   "cell_type": "code",
   "execution_count": 5,
   "metadata": {},
   "outputs": [],
   "source": [
    "# imports file loader\n",
    "import pickle"
   ]
  },
  {
   "cell_type": "code",
   "execution_count": 6,
   "metadata": {},
   "outputs": [],
   "source": [
    "# loads models for the analysis\n",
    "with open(\"../models/sklearnmodel.pkl\", \"rb\") as f:\n",
    "    model = pickle.load(f)\n",
    "with open(\"../models/sklearnvectorizer.pkl\", \"rb\") as f:\n",
    "    vectorizer = pickle.load(f)"
   ]
  },
  {
   "cell_type": "code",
   "execution_count": 12,
   "metadata": {},
   "outputs": [
    {
     "name": "stdout",
     "output_type": "stream",
     "text": [
      "Probability of AI: 40.67%\n",
      "Probability of AI: 70.37%\n",
      "Probability of AI: 57.74%\n",
      "Probability of AI: 55.36%\n",
      "Probability of AI: 78.51%\n"
     ]
    }
   ],
   "source": [
    "# runs the analysis\n",
    "times = int(input(\"How many times would you like the test to run? \"))\n",
    "\n",
    "for count in range(times):\n",
    "\n",
    "    # gets hte essay and determines the probability its AI \n",
    "    essay = input(\"Enter the essay here: \")\n",
    "    essayVec = vectorizer.transform([essay])\n",
    "    probability = model.predict_proba(essayVec)[0][0]\n",
    "\n",
    "    # prints output depending on probability\n",
    "    print(f\"Probability of AI: {probability:.2%}\")"
   ]
  }
 ],
 "metadata": {
  "kernelspec": {
   "display_name": ".venv",
   "language": "python",
   "name": "python3"
  },
  "language_info": {
   "codemirror_mode": {
    "name": "ipython",
    "version": 3
   },
   "file_extension": ".py",
   "mimetype": "text/x-python",
   "name": "python",
   "nbconvert_exporter": "python",
   "pygments_lexer": "ipython3",
   "version": "3.11.4"
  },
  "orig_nbformat": 4,
  "vscode": {
   "interpreter": {
    "hash": "05bb9d5be7a4819799d3124365432c9e401f7cacdf3ab72d1355166284b78b2d"
   }
  }
 },
 "nbformat": 4,
 "nbformat_minor": 2
}

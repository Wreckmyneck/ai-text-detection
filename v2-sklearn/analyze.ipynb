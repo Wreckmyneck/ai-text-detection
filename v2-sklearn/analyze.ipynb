{
 "cells": [
  {
   "cell_type": "code",
   "execution_count": 1,
   "metadata": {},
   "outputs": [],
   "source": [
    "import pickle"
   ]
  },
  {
   "cell_type": "code",
   "execution_count": 42,
   "metadata": {},
   "outputs": [],
   "source": [
    "# loads models for the analysis\n",
    "\n",
    "with open(\"../models/sklearnmodel.pkl\", \"rb\") as f:\n",
    "    model = pickle.load(f)\n",
    "with open(\"../models/sklearnvectorizer.pkl\", \"rb\") as f:\n",
    "    vectorizer = pickle.load(f)"
   ]
  },
  {
   "cell_type": "code",
   "execution_count": 43,
   "metadata": {},
   "outputs": [
    {
     "name": "stdout",
     "output_type": "stream",
     "text": [
      "This text may or may not have been written by an AI.\n"
     ]
    }
   ],
   "source": [
    "# runs the analyis\n",
    "\n",
    "times = int(input(\"How many times would you like the test to run? \"))\n",
    "\n",
    "for count in range(times):\n",
    "\n",
    "    # gets hte essay and determines the probability its AI \n",
    "    essay = input(\"Enter the essay here: \")\n",
    "    essayVec = vectorizer.transform([essay])\n",
    "    probability = model.predict_proba(essayVec)[0][0]\n",
    "\n",
    "    # prints output depending on probability\n",
    "    if probability > 0.9:\n",
    "        print(\"This text was likely written by an AI.\")\n",
    "    elif probability > 0.5:\n",
    "        print(\"This text may or may not have been written by an AI.\")\n",
    "    else:\n",
    "        print(\"This text was not written by an AI.\")\n",
    "\n",
    "    "
   ]
  },
  {
   "cell_type": "code",
   "execution_count": null,
   "metadata": {},
   "outputs": [],
   "source": []
  }
 ],
 "metadata": {
  "kernelspec": {
   "display_name": ".venv",
   "language": "python",
   "name": "python3"
  },
  "language_info": {
   "codemirror_mode": {
    "name": "ipython",
    "version": 3
   },
   "file_extension": ".py",
   "mimetype": "text/x-python",
   "name": "python",
   "nbconvert_exporter": "python",
   "pygments_lexer": "ipython3",
   "version": "3.11.2"
  },
  "orig_nbformat": 4,
  "vscode": {
   "interpreter": {
    "hash": "05bb9d5be7a4819799d3124365432c9e401f7cacdf3ab72d1355166284b78b2d"
   }
  }
 },
 "nbformat": 4,
 "nbformat_minor": 2
}

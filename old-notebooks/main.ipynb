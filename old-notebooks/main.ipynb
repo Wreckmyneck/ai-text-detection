{
 "cells": [
  {
   "attachments": {},
   "cell_type": "markdown",
   "metadata": {},
   "source": [
    "# AI Text Detector\n",
    "Using various datasets, this project will attempt to use machine learning to differentiate between human and AI generated text.\n",
    "\n",
    "## Datasets\n",
    "- [GPT Wiki Intro](https://huggingface.co/datasets/aadityaubhat/GPT-wiki-intro)"
   ]
  },
  {
   "cell_type": "code",
   "execution_count": null,
   "metadata": {},
   "outputs": [],
   "source": [
    "# install textblob into library\n",
    "import sys\n",
    "!{sys.executable} -m pip install textblob\n",
    "!{sys.executable} -m pip install pandas\n",
    "!{sys.executable} -m pip install tensorflow\n",
    "\n",
    "# download punkt\n",
    "import nltk\n",
    "nltk.download('punkt')\n",
    "\n",
    "import csv\n",
    "\n",
    "# imports packages\n",
    "from textblob import TextBlob\n",
    "from textblob.classifiers import NaiveBayesClassifier\n",
    "import pandas as pd\n"
   ]
  },
  {
   "cell_type": "code",
   "execution_count": null,
   "metadata": {},
   "outputs": [],
   "source": [
    "from tensorflow.compat.v1 import ConfigProto\n",
    "from tensorflow.compat.v1 import InteractiveSession\n",
    "config = ConfigProto()\n",
    "config.gpu_options.allow_growth = True\n",
    "session = InteractiveSession(config=config)"
   ]
  },
  {
   "cell_type": "code",
   "execution_count": 3,
   "metadata": {},
   "outputs": [],
   "source": [
    "# creates an array to store the data frrom the GPT-Wiki dataset\\\n",
    "wikiData = []\n",
    "\n",
    "# train with https://huggingface.co/datasets/aadityaubhat/GPT-wiki-intro\n",
    "with open(\"datasets/GPT-wiki-intro.csv\") as f:\n",
    "    reader = csv.DictReader(f)\n",
    "    for row in reader:\n",
    "        # creates a dictionary with only the texts we want\n",
    "        temp = {\"Human\": row[\"wiki_intro\"], \"Bot1\": row[\"generated_intro\"], \"Bot2\": row[\"generated_text\"]}\n",
    "        \n",
    "        # adds the dictionary to the array\n",
    "        wikiData.append(temp)\n",
    "\n"
   ]
  },
  {
   "cell_type": "code",
   "execution_count": 11,
   "metadata": {},
   "outputs": [],
   "source": [
    "# populate train data with wiki data\n",
    "def processWikiData(dict):\n",
    "    temp = list()\n",
    "    temp.append((dict[\"Human\"], 'human'))\n",
    "    temp.append((dict[\"Bot1\"], 'ai'))\n",
    "    temp.append((dict[\"Bot2\"], 'ai'))\n",
    "    return temp"
   ]
  },
  {
   "cell_type": "code",
   "execution_count": 12,
   "metadata": {},
   "outputs": [],
   "source": [
    "train = []\n",
    "\n",
    "for i in range(500):\n",
    "    train += processWikiData(wikiData[i])\n",
    "\n",
    "cl = NaiveBayesClassifier(train)"
   ]
  },
  {
   "cell_type": "code",
   "execution_count": null,
   "metadata": {},
   "outputs": [],
   "source": []
  }
 ],
 "metadata": {
  "kernelspec": {
   "display_name": "Python 3",
   "language": "python",
   "name": "python3"
  },
  "language_info": {
   "codemirror_mode": {
    "name": "ipython",
    "version": 3
   },
   "file_extension": ".py",
   "mimetype": "text/x-python",
   "name": "python",
   "nbconvert_exporter": "python",
   "pygments_lexer": "ipython3",
   "version": "3.11.2 (main, Feb 16 2023, 03:20:12) [Clang 13.0.0 (clang-1300.0.29.30)]"
  },
  "orig_nbformat": 4,
  "vscode": {
   "interpreter": {
    "hash": "aee8b7b246df8f9039afb4144a1f6fd8d2ca17a180786b69acc140d282b71a49"
   }
  }
 },
 "nbformat": 4,
 "nbformat_minor": 2
}
